{
 "metadata": {
  "language_info": {
   "codemirror_mode": {
    "name": "ipython",
    "version": 3
   },
   "file_extension": ".py",
   "mimetype": "text/x-python",
   "name": "python",
   "nbconvert_exporter": "python",
   "pygments_lexer": "ipython3",
   "version": "3.9.5"
  },
  "orig_nbformat": 4,
  "kernelspec": {
   "name": "python3",
   "display_name": "Python 3.9.5 64-bit"
  },
  "interpreter": {
   "hash": "ac59ebe37160ed0dfa835113d9b8498d9f09ceb179beaac4002f036b9467c963"
  }
 },
 "nbformat": 4,
 "nbformat_minor": 2,
 "cells": [
  {
   "cell_type": "code",
   "execution_count": 19,
   "metadata": {
    "tags": []
   },
   "outputs": [
    {
     "output_type": "stream",
     "name": "stdout",
     "text": [
      "[1.0, 0.0, 0.7071067811865476, -0.7071067811865476, 0.0, -1.0, -0.7071067811865476, -0.7071067811865476, -1.0, 0.0, -0.7071067811865476, 0.7071067811865476, 0.0, 1.0, 0.7071067811865476, 0.7071067811865476, 1.0, 0.0, 0.7071067811865476, -0.7071067811865476, 0.0, -1.0, -0.7071067811865476, -0.7071067811865476, -1.0, 0.0, -0.7071067811865476, 0.7071067811865476, 0.0, 1.0, 0.7071067811865476, 0.7071067811865476, 1.0, 0.0, 0.7071067811865476, -0.7071067811865476, 0.0, -1.0, -0.7071067811865476, -0.7071067811865476, -1.0, 0.0, -0.7071067811865476, 0.7071067811865476, 0.0, 1.0, 0.7071067811865476, 0.7071067811865476, 1.0, 0.0, 0.7071067811865476, -0.7071067811865476, 0.0, -1.0, -0.7071067811865476, -0.7071067811865476, -1.0, 0.0, -0.7071067811865476, 0.7071067811865476, 0.0, 1.0, 0.7071067811865476, 0.7071067811865476]\n"
     ]
    }
   ],
   "source": [
    "import numpy as np\n",
    "import math\n",
    "signal_in = np.zeros(1024)\n",
    "PI = math.pi\n",
    "sample_instance=1.0/450.0\n",
    "c=0.0\n",
    "w=2*PI*50\n",
    "wc=2*PI*1000\n",
    "for i in range(450):\n",
    "    signal_in[i] = (1+math.cos(w * c))*math.cos(wc * c)\n",
    "    signal_in[574+i] = (1+math.cos(w * c))*math.cos(wc * c)\n",
    "    c = c+sample_instance\n",
    "\n",
    "X = np.fft.fft(np.eye(32))\n",
    "Y = []\n",
    "for i in range(32):\n",
    "    Y.append(signal_in[i*32])\n",
    "\n",
    "r = []\n",
    "for i in range(32):\n",
    "    for j in range(32):\n",
    "        r.append(X[i][j].real)\n",
    "        r.append(X[i][j].imag)\n",
    "\n",
    "l = [[0 for i in range(64)] for j in range(32)]\n",
    "k=0\n",
    "for i in range(32):\n",
    "    for j in range(64):\n",
    "        l[i][j] = r[k]\n",
    "        k=k+1"
   ]
  },
  {
   "cell_type": "code",
   "execution_count": null,
   "metadata": {},
   "outputs": [],
   "source": [
    "# Importing libraries\n",
    "import pandas as pd\n",
    "  \n",
    "# Lasso Regression  \n",
    "iterations = 1000\n",
    "learning_rate = 0.01\n",
    "l1_penality = 500\n",
    "\n",
    "# Function for model training \n",
    "m,n = X.shape\n",
    "# weight initialization\n",
    "W = np.zeros( n )\n",
    "b = 0\n",
    "\n",
    "# gradient descent learning       \n",
    "for i in range(iterations ) :\n",
    "    Y_pred = X.dot( W ) + b\n",
    "          \n",
    "    # calculate gradients    \n",
    "    dW = np.zeros( n ) \n",
    "    for j in range( n ) :\n",
    "        if W[j] > 0 :    \n",
    "            dW[j] = ( - ( 2 * ( X[:, j] ).dot( Y - Y_pred ) ) + l1_penality ) / m\n",
    "        else :\n",
    "            dW[j] = ( - ( 2 * ( X[:, j] ).dot( Y - Y_pred ) ) - l1_penality ) / m\n",
    "         \n",
    "db = - 2 * np.sum( Y - Y_pred ) / m \n",
    "    \n",
    "# update weights\n",
    "W = W - learning_rate * dW\n",
    "b = b - learning_rate * db             "
   ]
  },
  {
   "cell_type": "code",
   "execution_count": null,
   "metadata": {},
   "outputs": [],
   "source": [
    "import matplotlib.pyplot as plt \n",
    "reconstruct = np.fft.ifft(W)\n",
    "reconstruct.shape"
   ]
  },
  {
   "cell_type": "code",
   "execution_count": null,
   "metadata": {},
   "outputs": [],
   "source": [
    "import scipy.signal as sig\n",
    "rec,rem = sig.deconvolve(signal_in, reconstruct)"
   ]
  },
  {
   "cell_type": "code",
   "execution_count": null,
   "metadata": {},
   "outputs": [],
   "source": [
    "rec.real"
   ]
  },
  {
   "cell_type": "code",
   "execution_count": null,
   "metadata": {},
   "outputs": [],
   "source": [
    "plt.plot(np.convolve(rec,reconstruct))"
   ]
  }
 ]
}